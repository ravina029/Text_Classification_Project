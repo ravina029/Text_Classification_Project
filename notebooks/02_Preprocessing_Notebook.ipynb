{
  "cells": [
    {
      "cell_type": "markdown",
      "metadata": {},
      "source": [
        "# 🎯 Text Preprocessing Notebook\n",
        "### Comprehensive and Detailed Preprocessing \n",
        "\n",
        "This notebook focuses exclusively on **text preprocessing**. It prepares the dataset for machine learning and deep learning models using rigorous linguistic and statistical preprocessing."
      ]
    },
    {
      "cell_type": "code",
      "execution_count": 5,
      "metadata": {},
      "outputs": [
        {
          "name": "stderr",
          "output_type": "stream",
          "text": [
            "[nltk_data] Downloading package stopwords to\n",
            "[nltk_data]     /Users/ravina/nltk_data...\n",
            "[nltk_data]   Package stopwords is already up-to-date!\n",
            "[nltk_data] Downloading package wordnet to /Users/ravina/nltk_data...\n",
            "[nltk_data]   Package wordnet is already up-to-date!\n",
            "[nltk_data] Downloading package omw-1.4 to /Users/ravina/nltk_data...\n",
            "[nltk_data]   Package omw-1.4 is already up-to-date!\n"
          ]
        }
      ],
      "source": [
        "import os, re, string, nltk, spacy, pandas as pd, numpy as np\n",
        "from nltk.corpus import stopwords\n",
        "from nltk.stem import WordNetLemmatizer\n",
        "from tqdm import tqdm\n",
        "from sklearn.model_selection import train_test_split\n",
        "\n",
        "nltk.download('stopwords')\n",
        "nltk.download('wordnet')\n",
        "nltk.download('omw-1.4')\n",
        "nlp = spacy.load('en_core_web_sm')"
      ]
    },
    {
      "cell_type": "markdown",
      "metadata": {},
      "source": [
        "## 1️⃣ Load Dataset"
      ]
    },
    {
      "cell_type": "code",
      "execution_count": 6,
      "metadata": {},
      "outputs": [
        {
          "data": {
            "text/html": [
              "<div>\n",
              "<style scoped>\n",
              "    .dataframe tbody tr th:only-of-type {\n",
              "        vertical-align: middle;\n",
              "    }\n",
              "\n",
              "    .dataframe tbody tr th {\n",
              "        vertical-align: top;\n",
              "    }\n",
              "\n",
              "    .dataframe thead th {\n",
              "        text-align: right;\n",
              "    }\n",
              "</style>\n",
              "<table border=\"1\" class=\"dataframe\">\n",
              "  <thead>\n",
              "    <tr style=\"text-align: right;\">\n",
              "      <th></th>\n",
              "      <th>review</th>\n",
              "      <th>sentiment</th>\n",
              "      <th>split</th>\n",
              "    </tr>\n",
              "  </thead>\n",
              "  <tbody>\n",
              "    <tr>\n",
              "      <th>0</th>\n",
              "      <td>For a movie that gets no respect there sure ar...</td>\n",
              "      <td>pos</td>\n",
              "      <td>train</td>\n",
              "    </tr>\n",
              "    <tr>\n",
              "      <th>1</th>\n",
              "      <td>Bizarre horror movie filled with famous faces ...</td>\n",
              "      <td>pos</td>\n",
              "      <td>train</td>\n",
              "    </tr>\n",
              "    <tr>\n",
              "      <th>2</th>\n",
              "      <td>A solid, if unremarkable film. Matthau, as Ein...</td>\n",
              "      <td>pos</td>\n",
              "      <td>train</td>\n",
              "    </tr>\n",
              "    <tr>\n",
              "      <th>3</th>\n",
              "      <td>It's a strange feeling to sit alone in a theat...</td>\n",
              "      <td>pos</td>\n",
              "      <td>train</td>\n",
              "    </tr>\n",
              "    <tr>\n",
              "      <th>4</th>\n",
              "      <td>You probably all already know this by now, but...</td>\n",
              "      <td>pos</td>\n",
              "      <td>train</td>\n",
              "    </tr>\n",
              "  </tbody>\n",
              "</table>\n",
              "</div>"
            ],
            "text/plain": [
              "                                              review sentiment  split\n",
              "0  For a movie that gets no respect there sure ar...       pos  train\n",
              "1  Bizarre horror movie filled with famous faces ...       pos  train\n",
              "2  A solid, if unremarkable film. Matthau, as Ein...       pos  train\n",
              "3  It's a strange feeling to sit alone in a theat...       pos  train\n",
              "4  You probably all already know this by now, but...       pos  train"
            ]
          },
          "execution_count": 6,
          "metadata": {},
          "output_type": "execute_result"
        }
      ],
      "source": [
        "def load_imdb_dataset(base_dir):\n",
        "    data = []\n",
        "    for split in ['train', 'test']:\n",
        "        for sentiment in ['pos', 'neg']:\n",
        "            folder = os.path.join(base_dir, split, sentiment)\n",
        "            for file_name in os.listdir(folder):\n",
        "                with open(os.path.join(folder, file_name), 'r', encoding='utf-8') as f:\n",
        "                    text = f.read()\n",
        "                    data.append({'review': text, 'sentiment': sentiment, 'split': split})\n",
        "    return pd.DataFrame(data)\n",
        "\n",
        "df = load_imdb_dataset('../data/aclImdb')\n",
        "df.head()"
      ]
    },
    {
      "cell_type": "markdown",
      "metadata": {},
      "source": [
        "## 2️⃣ Clean and Normalize Text"
      ]
    },
    {
      "cell_type": "code",
      "execution_count": 8,
      "metadata": {},
      "outputs": [
        {
          "data": {
            "text/html": [
              "<div>\n",
              "<style scoped>\n",
              "    .dataframe tbody tr th:only-of-type {\n",
              "        vertical-align: middle;\n",
              "    }\n",
              "\n",
              "    .dataframe tbody tr th {\n",
              "        vertical-align: top;\n",
              "    }\n",
              "\n",
              "    .dataframe thead th {\n",
              "        text-align: right;\n",
              "    }\n",
              "</style>\n",
              "<table border=\"1\" class=\"dataframe\">\n",
              "  <thead>\n",
              "    <tr style=\"text-align: right;\">\n",
              "      <th></th>\n",
              "      <th>review</th>\n",
              "      <th>sentiment</th>\n",
              "      <th>split</th>\n",
              "      <th>clean_text</th>\n",
              "    </tr>\n",
              "  </thead>\n",
              "  <tbody>\n",
              "    <tr>\n",
              "      <th>0</th>\n",
              "      <td>For a movie that gets no respect there sure ar...</td>\n",
              "      <td>pos</td>\n",
              "      <td>train</td>\n",
              "      <td>for a movie that gets no respect there sure ar...</td>\n",
              "    </tr>\n",
              "    <tr>\n",
              "      <th>1</th>\n",
              "      <td>Bizarre horror movie filled with famous faces ...</td>\n",
              "      <td>pos</td>\n",
              "      <td>train</td>\n",
              "      <td>bizarre horror movie filled with famous faces ...</td>\n",
              "    </tr>\n",
              "    <tr>\n",
              "      <th>2</th>\n",
              "      <td>A solid, if unremarkable film. Matthau, as Ein...</td>\n",
              "      <td>pos</td>\n",
              "      <td>train</td>\n",
              "      <td>a solid if unremarkable film matthau as einste...</td>\n",
              "    </tr>\n",
              "    <tr>\n",
              "      <th>3</th>\n",
              "      <td>It's a strange feeling to sit alone in a theat...</td>\n",
              "      <td>pos</td>\n",
              "      <td>train</td>\n",
              "      <td>it s a strange feeling to sit alone in a theat...</td>\n",
              "    </tr>\n",
              "    <tr>\n",
              "      <th>4</th>\n",
              "      <td>You probably all already know this by now, but...</td>\n",
              "      <td>pos</td>\n",
              "      <td>train</td>\n",
              "      <td>you probably all already know this by now but ...</td>\n",
              "    </tr>\n",
              "  </tbody>\n",
              "</table>\n",
              "</div>"
            ],
            "text/plain": [
              "                                              review sentiment  split  \\\n",
              "0  For a movie that gets no respect there sure ar...       pos  train   \n",
              "1  Bizarre horror movie filled with famous faces ...       pos  train   \n",
              "2  A solid, if unremarkable film. Matthau, as Ein...       pos  train   \n",
              "3  It's a strange feeling to sit alone in a theat...       pos  train   \n",
              "4  You probably all already know this by now, but...       pos  train   \n",
              "\n",
              "                                          clean_text  \n",
              "0  for a movie that gets no respect there sure ar...  \n",
              "1  bizarre horror movie filled with famous faces ...  \n",
              "2  a solid if unremarkable film matthau as einste...  \n",
              "3  it s a strange feeling to sit alone in a theat...  \n",
              "4  you probably all already know this by now but ...  "
            ]
          },
          "execution_count": 8,
          "metadata": {},
          "output_type": "execute_result"
        }
      ],
      "source": [
        "def clean_text(text):\n",
        "    text = text.lower()\n",
        "    text = re.sub(r'<.*?>', ' ', text)\n",
        "    text = re.sub(r'http\\S+|www\\S+', ' ', text)\n",
        "    text = re.sub(r'[^a-z\\s]', ' ', text)\n",
        "    text = re.sub(r'\\s+', ' ', text).strip()\n",
        "    return text\n",
        "\n",
        "df['clean_text'] = df['review'].apply(clean_text)\n",
        "df.head()"
      ]
    },
    {
      "cell_type": "markdown",
      "metadata": {},
      "source": [
        "## 3️⃣ Lemmatization, Stopword Removal, and POS Filtering"
      ]
    },
    {
      "cell_type": "code",
      "execution_count": 9,
      "metadata": {},
      "outputs": [
        {
          "name": "stderr",
          "output_type": "stream",
          "text": [
            "100%|██████████| 50000/50000 [5:19:42<00:00,  2.61it/s]      \n"
          ]
        },
        {
          "data": {
            "text/html": [
              "<div>\n",
              "<style scoped>\n",
              "    .dataframe tbody tr th:only-of-type {\n",
              "        vertical-align: middle;\n",
              "    }\n",
              "\n",
              "    .dataframe tbody tr th {\n",
              "        vertical-align: top;\n",
              "    }\n",
              "\n",
              "    .dataframe thead th {\n",
              "        text-align: right;\n",
              "    }\n",
              "</style>\n",
              "<table border=\"1\" class=\"dataframe\">\n",
              "  <thead>\n",
              "    <tr style=\"text-align: right;\">\n",
              "      <th></th>\n",
              "      <th>review</th>\n",
              "      <th>sentiment</th>\n",
              "      <th>split</th>\n",
              "      <th>clean_text</th>\n",
              "      <th>processed_text</th>\n",
              "    </tr>\n",
              "  </thead>\n",
              "  <tbody>\n",
              "    <tr>\n",
              "      <th>0</th>\n",
              "      <td>For a movie that gets no respect there sure ar...</td>\n",
              "      <td>pos</td>\n",
              "      <td>train</td>\n",
              "      <td>for a movie that gets no respect there sure ar...</td>\n",
              "      <td>movie get respect sure lot memorable quote lis...</td>\n",
              "    </tr>\n",
              "    <tr>\n",
              "      <th>1</th>\n",
              "      <td>Bizarre horror movie filled with famous faces ...</td>\n",
              "      <td>pos</td>\n",
              "      <td>train</td>\n",
              "      <td>bizarre horror movie filled with famous faces ...</td>\n",
              "      <td>bizarre horror movie fill famous face steal cr...</td>\n",
              "    </tr>\n",
              "    <tr>\n",
              "      <th>2</th>\n",
              "      <td>A solid, if unremarkable film. Matthau, as Ein...</td>\n",
              "      <td>pos</td>\n",
              "      <td>train</td>\n",
              "      <td>a solid if unremarkable film matthau as einste...</td>\n",
              "      <td>solid unremarkable film matthau einstein wonde...</td>\n",
              "    </tr>\n",
              "    <tr>\n",
              "      <th>3</th>\n",
              "      <td>It's a strange feeling to sit alone in a theat...</td>\n",
              "      <td>pos</td>\n",
              "      <td>train</td>\n",
              "      <td>it s a strange feeling to sit alone in a theat...</td>\n",
              "      <td>strange feeling sit alone theater occupy paren...</td>\n",
              "    </tr>\n",
              "    <tr>\n",
              "      <th>4</th>\n",
              "      <td>You probably all already know this by now, but...</td>\n",
              "      <td>pos</td>\n",
              "      <td>train</td>\n",
              "      <td>you probably all already know this by now but ...</td>\n",
              "      <td>probably already know additional episode never...</td>\n",
              "    </tr>\n",
              "  </tbody>\n",
              "</table>\n",
              "</div>"
            ],
            "text/plain": [
              "                                              review sentiment  split  \\\n",
              "0  For a movie that gets no respect there sure ar...       pos  train   \n",
              "1  Bizarre horror movie filled with famous faces ...       pos  train   \n",
              "2  A solid, if unremarkable film. Matthau, as Ein...       pos  train   \n",
              "3  It's a strange feeling to sit alone in a theat...       pos  train   \n",
              "4  You probably all already know this by now, but...       pos  train   \n",
              "\n",
              "                                          clean_text  \\\n",
              "0  for a movie that gets no respect there sure ar...   \n",
              "1  bizarre horror movie filled with famous faces ...   \n",
              "2  a solid if unremarkable film matthau as einste...   \n",
              "3  it s a strange feeling to sit alone in a theat...   \n",
              "4  you probably all already know this by now but ...   \n",
              "\n",
              "                                      processed_text  \n",
              "0  movie get respect sure lot memorable quote lis...  \n",
              "1  bizarre horror movie fill famous face steal cr...  \n",
              "2  solid unremarkable film matthau einstein wonde...  \n",
              "3  strange feeling sit alone theater occupy paren...  \n",
              "4  probably already know additional episode never...  "
            ]
          },
          "execution_count": 9,
          "metadata": {},
          "output_type": "execute_result"
        }
      ],
      "source": [
        "stop_words = set(stopwords.words('english'))\n",
        "lemmatizer = WordNetLemmatizer()\n",
        "tqdm.pandas()\n",
        "\n",
        "def preprocess_text(text):\n",
        "    doc = nlp(text)\n",
        "    tokens = []\n",
        "    for token in doc:\n",
        "        if token.is_alpha and token.text not in stop_words:\n",
        "            tokens.append(token.lemma_.lower())\n",
        "    return ' '.join(tokens)\n",
        "\n",
        "df['processed_text'] = df['clean_text'].progress_apply(preprocess_text)\n",
        "df.head()"
      ]
    },
    {
      "cell_type": "markdown",
      "metadata": {},
      "source": [
        "## 4️⃣ Balance Dataset"
      ]
    },
    {
      "cell_type": "code",
      "execution_count": 10,
      "metadata": {},
      "outputs": [
        {
          "data": {
            "text/plain": [
              "sentiment\n",
              "neg    25000\n",
              "pos    25000\n",
              "Name: count, dtype: int64"
            ]
          },
          "execution_count": 10,
          "metadata": {},
          "output_type": "execute_result"
        }
      ],
      "source": [
        "sentiment_counts = df['sentiment'].value_counts()\n",
        "min_count = sentiment_counts.min()\n",
        "df_balanced = df.groupby('sentiment').sample(min_count, random_state=42).reset_index(drop=True)\n",
        "df_balanced['sentiment'].value_counts()"
      ]
    },
    {
      "cell_type": "markdown",
      "metadata": {},
      "source": [
        "## 5️⃣ Train-Test Split"
      ]
    },
    {
      "cell_type": "code",
      "execution_count": 11,
      "metadata": {},
      "outputs": [
        {
          "name": "stdout",
          "output_type": "stream",
          "text": [
            "Train samples: 40000\n",
            "Test samples: 10000\n"
          ]
        }
      ],
      "source": [
        "X_train, X_test, y_train, y_test = train_test_split(\n",
        "    df_balanced['processed_text'], df_balanced['sentiment'],\n",
        "    test_size=0.2, random_state=42, stratify=df_balanced['sentiment']\n",
        ")\n",
        "print('Train samples:', len(X_train))\n",
        "print('Test samples:', len(X_test))"
      ]
    },
    {
      "cell_type": "markdown",
      "metadata": {},
      "source": [
        "## 6️⃣ Save Preprocessed Data"
      ]
    },
    {
      "cell_type": "code",
      "execution_count": null,
      "metadata": {},
      "outputs": [
        {
          "name": "stdout",
          "output_type": "stream",
          "text": [
            "✅ Saved to ../processed/imdb_preprocessed.csv\n"
          ]
        }
      ],
      "source": [
        "os.makedirs('..data/processed', exist_ok=True)\n",
        "df_balanced.to_csv('..data/processed/imdb_preprocessed.csv', index=False)\n",
        "print('✅ Saved to ..data/processed/imdb_preprocessed.csv')"
      ]
    },
    {
      "cell_type": "code",
      "execution_count": null,
      "id": "9591d478",
      "metadata": {},
      "outputs": [],
      "source": []
    }
  ],
  "metadata": {
    "kernelspec": {
      "display_name": "Python 3",
      "name": "python3"
    },
    "language_info": {
      "codemirror_mode": {
        "name": "ipython",
        "version": 3
      },
      "file_extension": ".py",
      "mimetype": "text/x-python",
      "name": "python",
      "nbconvert_exporter": "python",
      "pygments_lexer": "ipython3",
      "version": "3.11.13"
    }
  },
  "nbformat": 4,
  "nbformat_minor": 5
}
